{
 "cells": [
  {
   "cell_type": "markdown",
   "metadata": {},
   "source": [
    "# Regression and Ensemble Learning Methods to predict NBA salaries"
   ]
  },
  {
   "cell_type": "code",
   "execution_count": 1,
   "metadata": {},
   "outputs": [],
   "source": [
    "#Import Necessary Packages\n",
    "import pandas as pd\n",
    "import numpy as np\n",
    "import matplotlib.pyplot as plt\n",
    "import seaborn as sns\n",
    "from sklearn.linear_model import RidgeCV, LassoCV, Ridge, Lasso\n",
    "from sklearn.model_selection import train_test_split\n",
    "from sklearn.metrics import mean_squared_error\n",
    "from sklearn.model_selection import cross_val_score\n",
    "from sklearn.model_selection import GridSearchCV\n",
    "from sklearn.ensemble import RandomForestRegressor\n",
    "from statsmodels.stats.outliers_influence import variance_inflation_factor\n",
    "from sklearn.model_selection import cross_validate\n",
    "from sklearn.ensemble import VotingRegressor\n",
    "from sklearn.model_selection import KFold\n",
    "from sklearn.metrics import mean_squared_error\n",
    "import pickle"
   ]
  },
  {
   "cell_type": "code",
   "execution_count": 2,
   "metadata": {},
   "outputs": [],
   "source": [
    "#Load in dataframe\n",
    "train_df = pd.read_csv('train.csv')\n",
    "\n",
    "#Missing values relate to 3p% and ft%. Replace these with zeros. subset features\n",
    "features = train_df[['PER', 'TS%', '3PAr', 'FTr', 'ORB%', 'DRB%', 'TRB%', 'AST%', 'STL%', 'BLK%', 'VORP', 'G', 'GS', 'MP', 'FG', 'FGA', 'FG%', '3P', '3PA', '3P%', '2P', '2PA', '2P%', 'FT', 'FTA', 'FT%', 'ORB', 'DRB', 'TRB', 'AST', 'STL', 'BLK', 'TOV', 'PTS', 'ORtg', 'DRtg', 'Adj_Sal']]\n",
    "features = features.fillna(0)\n",
    "X = features[['PER', 'TS%', '3PAr', 'FTr', 'ORB%', 'DRB%', 'TRB%', 'AST%', 'STL%', 'BLK%', 'VORP', 'G', 'GS', 'MP', 'FG', 'FGA', 'FG%', '3P', '3PA', '3P%', '2P', '2PA', '2P%', 'FT', 'FTA', 'FT%', 'ORB', 'DRB', 'TRB', 'AST', 'STL', 'BLK', 'TOV', 'PTS', 'ORtg', 'DRtg']]\n",
    "y = features['Adj_Sal']"
   ]
  },
  {
   "cell_type": "markdown",
   "metadata": {},
   "source": [
    "## Lasso Regression"
   ]
  },
  {
   "cell_type": "code",
   "execution_count": 3,
   "metadata": {},
   "outputs": [
    {
     "name": "stderr",
     "output_type": "stream",
     "text": [
      "C:\\Users\\jdave\\AppData\\Local\\Continuum\\anaconda3\\lib\\site-packages\\sklearn\\linear_model\\coordinate_descent.py:471: ConvergenceWarning: Objective did not converge. You might want to increase the number of iterations. Duality gap: 1.8354940833094133, tolerance: 0.8490389561320761\n",
      "  tol, rng, random, positive)\n",
      "C:\\Users\\jdave\\AppData\\Local\\Continuum\\anaconda3\\lib\\site-packages\\sklearn\\linear_model\\coordinate_descent.py:471: ConvergenceWarning: Objective did not converge. You might want to increase the number of iterations. Duality gap: 2.277055124769504, tolerance: 0.8490389561320761\n",
      "  tol, rng, random, positive)\n",
      "C:\\Users\\jdave\\AppData\\Local\\Continuum\\anaconda3\\lib\\site-packages\\sklearn\\linear_model\\coordinate_descent.py:471: ConvergenceWarning: Objective did not converge. You might want to increase the number of iterations. Duality gap: 2.2723307260353067, tolerance: 0.8490389561320761\n",
      "  tol, rng, random, positive)\n",
      "C:\\Users\\jdave\\AppData\\Local\\Continuum\\anaconda3\\lib\\site-packages\\sklearn\\linear_model\\coordinate_descent.py:471: ConvergenceWarning: Objective did not converge. You might want to increase the number of iterations. Duality gap: 2.252592232816596, tolerance: 0.8490389561320761\n",
      "  tol, rng, random, positive)\n",
      "C:\\Users\\jdave\\AppData\\Local\\Continuum\\anaconda3\\lib\\site-packages\\sklearn\\linear_model\\coordinate_descent.py:471: ConvergenceWarning: Objective did not converge. You might want to increase the number of iterations. Duality gap: 1.9356656191953334, tolerance: 0.8490389561320761\n",
      "  tol, rng, random, positive)\n",
      "C:\\Users\\jdave\\AppData\\Local\\Continuum\\anaconda3\\lib\\site-packages\\sklearn\\linear_model\\coordinate_descent.py:471: ConvergenceWarning: Objective did not converge. You might want to increase the number of iterations. Duality gap: 1.712359356685056, tolerance: 0.8490389561320761\n",
      "  tol, rng, random, positive)\n",
      "C:\\Users\\jdave\\AppData\\Local\\Continuum\\anaconda3\\lib\\site-packages\\sklearn\\linear_model\\coordinate_descent.py:471: ConvergenceWarning: Objective did not converge. You might want to increase the number of iterations. Duality gap: 2.419922530761596, tolerance: 0.9665720886150002\n",
      "  tol, rng, random, positive)\n"
     ]
    },
    {
     "name": "stdout",
     "output_type": "stream",
     "text": [
      "R^2: 0.615875\n",
      "RMSE: 5.493157\n"
     ]
    }
   ],
   "source": [
    "#split dataset into train and test data and run lasso regression\n",
    "X_train, X_test, y_train, y_test = train_test_split(X, y, test_size=0.2, random_state=42)\n",
    "alphas = np.logspace(-4, -0.5, 30)\n",
    "lasso = LassoCV(alphas = alphas, cv=5, random_state=0, max_iter=100000)\n",
    "lasso.fit(X_train, y_train)\n",
    "y_pred = lasso.predict(X_test)\n",
    "print(\"R^2: %f\" %lasso.score(X_test, y_test))\n",
    "rmse = np.sqrt(mean_squared_error(y_test, y_pred))\n",
    "print(\"RMSE: %f\" % (rmse))"
   ]
  },
  {
   "cell_type": "code",
   "execution_count": 4,
   "metadata": {},
   "outputs": [
    {
     "data": {
      "text/plain": [
       "Text(0.5, 1.0, 'Feature importance using Lasso Model')"
      ]
     },
     "execution_count": 4,
     "metadata": {},
     "output_type": "execute_result"
    },
    {
     "data": {
      "image/png": "[encoded data removed]",
      "text/plain": [
       "<Figure size 576x576 with 1 Axes>"
      ]
     },
     "metadata": {
      "needs_background": "light"
     },
     "output_type": "display_data"
    }
   ],
   "source": [
    "#Visualize feature importance\n",
    "coef = pd.Series(lasso.coef_, index = X.columns)\n",
    "imp_coef = coef.sort_values()\n",
    "import matplotlib\n",
    "matplotlib.rcParams['figure.figsize'] = (8.0, 8)\n",
    "imp_coef.plot(kind = \"barh\")\n",
    "plt.title(\"Feature importance using Lasso Model\")"
   ]
  },
  {
   "cell_type": "code",
   "execution_count": 5,
   "metadata": {},
   "outputs": [],
   "source": [
    "#Save lasso Regression Model\n",
    "filename='lasso_model.sav'\n",
    "pickle.dump(lasso, open(filename, 'wb'))"
   ]
  },
  {
   "cell_type": "markdown",
   "metadata": {},
   "source": [
    "## Ridge Regression"
   ]
  },
  {
   "cell_type": "code",
   "execution_count": 6,
   "metadata": {
    "scrolled": true
   },
   "outputs": [
    {
     "name": "stdout",
     "output_type": "stream",
     "text": [
      "R^2: 0.596497\n",
      "RMSE: 5.630011\n"
     ]
    }
   ],
   "source": [
    "#split dataset into train and test data and run ridge regression\n",
    "X_train, X_test, y_train, y_test = train_test_split(X, y, test_size=0.2, random_state=42)\n",
    "ridge = RidgeCV(alphas=alphas)\n",
    "ridge.fit(X_train, y_train)\n",
    "y_pred = ridge.predict(X_test)\n",
    "print(\"R^2: %f\" %ridge.score(X_test, y_test))\n",
    "rmse = np.sqrt(mean_squared_error(y_test, y_pred))\n",
    "print(\"RMSE: %f\" % (rmse))"
   ]
  },
  {
   "cell_type": "code",
   "execution_count": 7,
   "metadata": {},
   "outputs": [
    {
     "data": {
      "text/plain": [
       "Text(0.5, 1.0, 'Feature importance using Ridge Model')"
      ]
     },
     "execution_count": 7,
     "metadata": {},
     "output_type": "execute_result"
    },
    {
     "data": {
      "image/png": "[encoded data removed]",
      "text/plain": [
       "<Figure size 576x576 with 1 Axes>"
      ]
     },
     "metadata": {
      "needs_background": "light"
     },
     "output_type": "display_data"
    }
   ],
   "source": [
    "#Visualize feature importance\n",
    "coef = pd.Series(ridge.coef_, index = X.columns)\n",
    "imp_coef = coef.sort_values()\n",
    "import matplotlib\n",
    "matplotlib.rcParams['figure.figsize'] = (8.0, 8)\n",
    "imp_coef.plot(kind = \"barh\")\n",
    "plt.title(\"Feature importance using Ridge Model\")"
   ]
  },
  {
   "cell_type": "code",
   "execution_count": 8,
   "metadata": {},
   "outputs": [],
   "source": [
    "#Save Ridge Regression Model\n",
    "filename='ridge_model.sav'\n",
    "pickle.dump(ridge, open(filename, 'wb'))"
   ]
  },
  {
   "cell_type": "markdown",
   "metadata": {},
   "source": [
    "## Random Forest "
   ]
  },
  {
   "cell_type": "code",
   "execution_count": 11,
   "metadata": {},
   "outputs": [],
   "source": [
    "#Create Parameter Grid\n",
    "param_grid = {\n",
    "    'max_features': ['auto', 'sqrt', 'log2', None],\n",
    "    'n_estimators': [10, 50, 100, 200, 300, 1000],\n",
    "    'max_depth': [10, 20, 30, 40, 50, 60, 70, 80, 90, 100, None],\n",
    "    'min_samples_leaf': [1, 2, 3, 4, 5],\n",
    "    'min_samples_split': [2, 3, 4, 5]\n",
    "    \n",
    "}\n",
    "\n",
    "#Create a based model\n",
    "rf = RandomForestRegressor()\n",
    "\n",
    "#Instantiate grid search model\n",
    "cv_rf = GridSearchCV(estimator = rf, param_grid = param_grid, cv = 5, n_jobs = -1, verbose = 2)"
   ]
  },
  {
   "cell_type": "code",
   "execution_count": 12,
   "metadata": {},
   "outputs": [
    {
     "name": "stdout",
     "output_type": "stream",
     "text": [
      "Fitting 5 folds for each of 5280 candidates, totalling 26400 fits\n"
     ]
    },
    {
     "name": "stderr",
     "output_type": "stream",
     "text": [
      "[Parallel(n_jobs=-1)]: Using backend LokyBackend with 4 concurrent workers.\n",
      "[Parallel(n_jobs=-1)]: Done  33 tasks      | elapsed:    5.9s\n",
      "[Parallel(n_jobs=-1)]: Done 154 tasks      | elapsed:   22.5s\n",
      "[Parallel(n_jobs=-1)]: Done 357 tasks      | elapsed:   45.5s\n",
      "[Parallel(n_jobs=-1)]: Done 640 tasks      | elapsed:  1.2min\n",
      "[Parallel(n_jobs=-1)]: Done 1005 tasks      | elapsed:  1.7min\n",
      "[Parallel(n_jobs=-1)]: Done 1450 tasks      | elapsed:  2.2min\n",
      "[Parallel(n_jobs=-1)]: Done 1977 tasks      | elapsed:  3.0min\n",
      "[Parallel(n_jobs=-1)]: Done 2584 tasks      | elapsed:  4.1min\n",
      "[Parallel(n_jobs=-1)]: Done 3273 tasks      | elapsed:  5.2min\n",
      "[Parallel(n_jobs=-1)]: Done 4042 tasks      | elapsed:  6.2min\n",
      "[Parallel(n_jobs=-1)]: Done 4893 tasks      | elapsed:  7.7min\n",
      "[Parallel(n_jobs=-1)]: Done 5824 tasks      | elapsed:  9.3min\n",
      "[Parallel(n_jobs=-1)]: Done 6837 tasks      | elapsed: 10.7min\n",
      "[Parallel(n_jobs=-1)]: Done 7930 tasks      | elapsed: 12.9min\n",
      "[Parallel(n_jobs=-1)]: Done 9105 tasks      | elapsed: 14.7min\n",
      "[Parallel(n_jobs=-1)]: Done 10360 tasks      | elapsed: 17.3min\n",
      "[Parallel(n_jobs=-1)]: Done 11697 tasks      | elapsed: 19.8min\n",
      "[Parallel(n_jobs=-1)]: Done 13114 tasks      | elapsed: 22.4min\n",
      "[Parallel(n_jobs=-1)]: Done 14613 tasks      | elapsed: 25.2min\n",
      "[Parallel(n_jobs=-1)]: Done 16192 tasks      | elapsed: 27.5min\n",
      "[Parallel(n_jobs=-1)]: Done 17853 tasks      | elapsed: 30.7min\n",
      "[Parallel(n_jobs=-1)]: Done 19594 tasks      | elapsed: 33.9min\n",
      "[Parallel(n_jobs=-1)]: Done 21417 tasks      | elapsed: 36.9min\n",
      "[Parallel(n_jobs=-1)]: Done 23320 tasks      | elapsed: 39.9min\n",
      "[Parallel(n_jobs=-1)]: Done 25305 tasks      | elapsed: 43.3min\n",
      "[Parallel(n_jobs=-1)]: Done 26400 out of 26400 | elapsed: 45.2min finished\n",
      "C:\\Users\\jdave\\AppData\\Local\\Continuum\\anaconda3\\lib\\site-packages\\sklearn\\model_selection\\_search.py:813: DeprecationWarning: The default of the `iid` parameter will change from True to False in version 0.22 and will be removed in 0.24. This will change numeric results when test-set sizes are unequal.\n",
      "  DeprecationWarning)\n"
     ]
    }
   ],
   "source": [
    "#Train Test SPlit\n",
    "X_train, X_test, y_train, y_test = train_test_split(X, y, test_size=0.2, random_state=42)\n",
    "\n",
    "#fit model\n",
    "cv_rf.fit(X_train,y_train)\n",
    "best_params = cv_rf.best_params_\n",
    "\n",
    "#Create predictions\n",
    "y_pred = cv_rf.predict(X_test)"
   ]
  },
  {
   "cell_type": "code",
   "execution_count": 13,
   "metadata": {},
   "outputs": [
    {
     "name": "stdout",
     "output_type": "stream",
     "text": [
      "{'max_depth': 40, 'max_features': 'auto', 'min_samples_leaf': 5, 'min_samples_split': 4, 'n_estimators': 10}\n",
      "R^2: 0.515286\n",
      "RMSE: 6.170620\n"
     ]
    }
   ],
   "source": [
    "#Scoring\n",
    "print(best_params)\n",
    "print(\"R^2: %f\" %cv_rf.score(X_test, y_test))\n",
    "rmse = np.sqrt(mean_squared_error(y_test, y_pred))\n",
    "print(\"RMSE: %f\" % (rmse))"
   ]
  },
  {
   "cell_type": "code",
   "execution_count": 15,
   "metadata": {},
   "outputs": [],
   "source": [
    "features = X.columns.values\n",
    "importances = cv_rf.best_estimator_.feature_importances_\n",
    "feature_imp = pd.Series(importances, features).sort_values(ascending=False)"
   ]
  },
  {
   "cell_type": "code",
   "execution_count": 16,
   "metadata": {
    "scrolled": false
   },
   "outputs": [
    {
     "data": {
      "image/png": "[encoded data removed]",
      "text/plain": [
       "<Figure size 720x720 with 1 Axes>"
      ]
     },
     "metadata": {
      "needs_background": "light"
     },
     "output_type": "display_data"
    }
   ],
   "source": [
    "plt.figure(figsize=(10,10))\n",
    "ax = sns.barplot(x=feature_imp, y=feature_imp.index)\n",
    "# Add labels to your graph\n",
    "plt.xlabel('Feature Importance Score')\n",
    "plt.ylabel('Features')\n",
    "plt.title(\"Visualizing Important Features\")\n",
    "plt.show()"
   ]
  },
  {
   "cell_type": "code",
   "execution_count": 17,
   "metadata": {},
   "outputs": [],
   "source": [
    "#Save Ridge Regression Model\n",
    "filename='grid_result_model.sav'\n",
    "pickle.dump(ridge, open(filename, 'wb'))"
   ]
  },
  {
   "cell_type": "markdown",
   "metadata": {},
   "source": [
    "## Ensemble Learning"
   ]
  },
  {
   "cell_type": "code",
   "execution_count": 18,
   "metadata": {},
   "outputs": [
    {
     "name": "stdout",
     "output_type": "stream",
     "text": [
      "R^2: 0.724060\n",
      "RMSE: 4.915974\n"
     ]
    }
   ],
   "source": [
    "#Voting Regressor\n",
    "from sklearn.linear_model import LinearRegression\n",
    "from sklearn.ensemble import RandomForestRegressor\n",
    "from sklearn.linear_model import Ridge\n",
    "from sklearn.linear_model import Lasso\n",
    "r1 = LinearRegression()\n",
    "r2 = RandomForestRegressor(n_estimators=10, random_state=1)\n",
    "r3 = Lasso()\n",
    "r4 = Ridge()\n",
    "reg_avg = VotingRegressor([('lr', r1), ('rf', r2), ('lasso', r3), ('ridge', r4)], weights = [1, 2, 1, 1])\n",
    "X_train, X_test, y_train, y_test = train_test_split(X, y, test_size=0.25)\n",
    "reg_avg.fit(X_train, y_train)\n",
    "y_pred = reg_avg.predict(X_test)\n",
    "print(\"R^2: %f\" %reg_avg.score(X_test, y_test))\n",
    "rmse = np.sqrt(mean_squared_error(y_test, y_pred))\n",
    "print(\"RMSE: %f\" % (rmse))"
   ]
  },
  {
   "cell_type": "code",
   "execution_count": 19,
   "metadata": {},
   "outputs": [],
   "source": [
    "#Save Voting Model\n",
    "filename='reg_avg.sav'\n",
    "pickle.dump(reg_avg, open(filename, 'wb'))"
   ]
  },
  {
   "cell_type": "code",
   "execution_count": 22,
   "metadata": {},
   "outputs": [
    {
     "name": "stderr",
     "output_type": "stream",
     "text": [
      "C:\\Users\\jdave\\AppData\\Local\\Continuum\\anaconda3\\lib\\site-packages\\sklearn\\ensemble\\forest.py:245: FutureWarning: The default value of n_estimators will change from 10 in version 0.20 to 100 in 0.22.\n",
      "  \"10 in version 0.20 to 100 in 0.22.\", FutureWarning)\n",
      "C:\\Users\\jdave\\AppData\\Local\\Continuum\\anaconda3\\lib\\site-packages\\sklearn\\ensemble\\forest.py:245: FutureWarning: The default value of n_estimators will change from 10 in version 0.20 to 100 in 0.22.\n",
      "  \"10 in version 0.20 to 100 in 0.22.\", FutureWarning)\n",
      "C:\\Users\\jdave\\AppData\\Local\\Continuum\\anaconda3\\lib\\site-packages\\sklearn\\ensemble\\forest.py:245: FutureWarning: The default value of n_estimators will change from 10 in version 0.20 to 100 in 0.22.\n",
      "  \"10 in version 0.20 to 100 in 0.22.\", FutureWarning)\n",
      "C:\\Users\\jdave\\AppData\\Local\\Continuum\\anaconda3\\lib\\site-packages\\sklearn\\ensemble\\forest.py:245: FutureWarning: The default value of n_estimators will change from 10 in version 0.20 to 100 in 0.22.\n",
      "  \"10 in version 0.20 to 100 in 0.22.\", FutureWarning)\n",
      "C:\\Users\\jdave\\AppData\\Local\\Continuum\\anaconda3\\lib\\site-packages\\sklearn\\ensemble\\forest.py:245: FutureWarning: The default value of n_estimators will change from 10 in version 0.20 to 100 in 0.22.\n",
      "  \"10 in version 0.20 to 100 in 0.22.\", FutureWarning)\n"
     ]
    },
    {
     "name": "stdout",
     "output_type": "stream",
     "text": [
      "OOB-Score: 0.520\n",
      "RMSE: 5.750697\n"
     ]
    },
    {
     "name": "stderr",
     "output_type": "stream",
     "text": [
      "C:\\Users\\jdave\\AppData\\Local\\Continuum\\anaconda3\\lib\\site-packages\\sklearn\\ensemble\\forest.py:245: FutureWarning: The default value of n_estimators will change from 10 in version 0.20 to 100 in 0.22.\n",
      "  \"10 in version 0.20 to 100 in 0.22.\", FutureWarning)\n",
      "C:\\Users\\jdave\\AppData\\Local\\Continuum\\anaconda3\\lib\\site-packages\\sklearn\\ensemble\\forest.py:245: FutureWarning: The default value of n_estimators will change from 10 in version 0.20 to 100 in 0.22.\n",
      "  \"10 in version 0.20 to 100 in 0.22.\", FutureWarning)\n",
      "C:\\Users\\jdave\\AppData\\Local\\Continuum\\anaconda3\\lib\\site-packages\\sklearn\\ensemble\\forest.py:245: FutureWarning: The default value of n_estimators will change from 10 in version 0.20 to 100 in 0.22.\n",
      "  \"10 in version 0.20 to 100 in 0.22.\", FutureWarning)\n",
      "C:\\Users\\jdave\\AppData\\Local\\Continuum\\anaconda3\\lib\\site-packages\\sklearn\\ensemble\\forest.py:245: FutureWarning: The default value of n_estimators will change from 10 in version 0.20 to 100 in 0.22.\n",
      "  \"10 in version 0.20 to 100 in 0.22.\", FutureWarning)\n",
      "C:\\Users\\jdave\\AppData\\Local\\Continuum\\anaconda3\\lib\\site-packages\\sklearn\\ensemble\\forest.py:245: FutureWarning: The default value of n_estimators will change from 10 in version 0.20 to 100 in 0.22.\n",
      "  \"10 in version 0.20 to 100 in 0.22.\", FutureWarning)\n",
      "C:\\Users\\jdave\\AppData\\Local\\Continuum\\anaconda3\\lib\\site-packages\\sklearn\\ensemble\\bagging.py:1011: UserWarning: Some inputs do not have OOB scores. This probably means too few estimators were used to compute any reliable oob estimates.\n",
      "  warn(\"Some inputs do not have OOB scores. \"\n"
     ]
    }
   ],
   "source": [
    "#Bagging Regressor\n",
    "from sklearn.ensemble import RandomForestRegressor\n",
    "from sklearn.ensemble import BaggingRegressor\n",
    "reg_rf = RandomForestRegressor()\n",
    "reg_bag = BaggingRegressor(base_estimator=reg_rf, oob_score = True)\n",
    "X_train, X_test, y_train, y_test = train_test_split(X, y, test_size=0.25)\n",
    "reg_bag.fit(X_train, y_train)\n",
    "y_pred = reg_bag.predict(X_test)\n",
    "print('OOB-Score: {:.3f}'.format(reg_bag.oob_score_))\n",
    "rmse = np.sqrt(mean_squared_error(y_test, y_pred))\n",
    "print(\"RMSE: %f\" % (rmse))"
   ]
  },
  {
   "cell_type": "code",
   "execution_count": 23,
   "metadata": {},
   "outputs": [
    {
     "name": "stdout",
     "output_type": "stream",
     "text": [
      "R^2: 0.510684\n",
      "RMSE: 13.511037\n"
     ]
    }
   ],
   "source": [
    "#adaboost\n",
    "from sklearn.ensemble import AdaBoostRegressor\n",
    "reg_ada = AdaBoostRegressor(n_estimators=100, learning_rate=0.01, random_state=500)\n",
    "X_train, X_test, y_train, y_test = train_test_split(X, y, test_size=0.25)\n",
    "reg_ada.fit(X_train, y_train)\n",
    "pred = reg_ada.predict(X_test)\n",
    "print(\"R^2: %f\" %reg_ada.score(X_test, y_test))\n",
    "rmse = np.sqrt(mean_squared_error(y_test, y_pred))\n",
    "print(\"RMSE: %f\" % (rmse))"
   ]
  },
  {
   "cell_type": "code",
   "execution_count": 24,
   "metadata": {},
   "outputs": [
    {
     "name": "stderr",
     "output_type": "stream",
     "text": [
      "C:\\Users\\jdave\\AppData\\Local\\Continuum\\anaconda3\\lib\\site-packages\\xgboost\\core.py:587: FutureWarning: Series.base is deprecated and will be removed in a future version\n",
      "  if getattr(data, 'base', None) is not None and \\\n",
      "C:\\Users\\jdave\\AppData\\Local\\Continuum\\anaconda3\\lib\\site-packages\\xgboost\\core.py:588: FutureWarning: Series.base is deprecated and will be removed in a future version\n",
      "  data.base is not None and isinstance(data, np.ndarray) \\\n"
     ]
    },
    {
     "name": "stdout",
     "output_type": "stream",
     "text": [
      "[11:06:53] WARNING: C:/Jenkins/workspace/xgboost-win64_release_0.90/src/objective/regression_obj.cu:152: reg:linear is now deprecated in favor of reg:squarederror.\n",
      "[11:06:53] WARNING: C:/Jenkins/workspace/xgboost-win64_release_0.90/src/objective/regression_obj.cu:152: reg:linear is now deprecated in favor of reg:squarederror.\n",
      "[11:06:53] WARNING: C:/Jenkins/workspace/xgboost-win64_release_0.90/src/objective/regression_obj.cu:152: reg:linear is now deprecated in favor of reg:squarederror.\n",
      "49    6.473414\n",
      "Name: test-rmse-mean, dtype: float64\n",
      "RMSE: 13.511037\n"
     ]
    }
   ],
   "source": [
    "#XGBoost\n",
    "import xgboost as xgb\n",
    "from sklearn.metrics import r2_score\n",
    "data_dmatrix = xgb.DMatrix(data=X, label=y)\n",
    "params = {\"objective\":\"reg:linear\",'colsample_bytree': 0.3,'learning_rate': 0.1,\n",
    "                'max_depth': 5, 'alpha': 10}\n",
    "cv_results = xgb.cv(dtrain=data_dmatrix, params=params, nfold=3,\n",
    "                    num_boost_round=50,early_stopping_rounds=10,metrics=\"rmse\", as_pandas=True, seed=123)\n",
    "print((cv_results[\"test-rmse-mean\"]).tail(1))\n",
    "rmse = np.sqrt(mean_squared_error(y_test, y_pred))\n",
    "print(\"RMSE: %f\" % (rmse))"
   ]
  },
  {
   "cell_type": "code",
   "execution_count": 29,
   "metadata": {},
   "outputs": [
    {
     "name": "stderr",
     "output_type": "stream",
     "text": [
      "C:\\Users\\jdave\\AppData\\Local\\Continuum\\anaconda3\\lib\\site-packages\\sklearn\\linear_model\\coordinate_descent.py:475: ConvergenceWarning: Objective did not converge. You might want to increase the number of iterations. Duality gap: 7.78304105373104, tolerance: 0.6805242284897725\n",
      "  positive)\n",
      "C:\\Users\\jdave\\AppData\\Local\\Continuum\\anaconda3\\lib\\site-packages\\sklearn\\linear_model\\coordinate_descent.py:475: ConvergenceWarning: Objective did not converge. You might want to increase the number of iterations. Duality gap: 3.130329350948159, tolerance: 0.7136040557377777\n",
      "  positive)\n",
      "C:\\Users\\jdave\\AppData\\Local\\Continuum\\anaconda3\\lib\\site-packages\\sklearn\\linear_model\\coordinate_descent.py:475: ConvergenceWarning: Objective did not converge. You might want to increase the number of iterations. Duality gap: 14.353832770503914, tolerance: 0.8265804616227843\n",
      "  positive)\n",
      "C:\\Users\\jdave\\AppData\\Local\\Continuum\\anaconda3\\lib\\site-packages\\sklearn\\linear_model\\coordinate_descent.py:475: ConvergenceWarning: Objective did not converge. You might want to increase the number of iterations. Duality gap: 0.9208813362988622, tolerance: 0.9018043351443356\n",
      "  positive)\n",
      "C:\\Users\\jdave\\AppData\\Local\\Continuum\\anaconda3\\lib\\site-packages\\sklearn\\linear_model\\coordinate_descent.py:475: ConvergenceWarning: Objective did not converge. You might want to increase the number of iterations. Duality gap: 19.110783075088193, tolerance: 0.5287582183210456\n",
      "  positive)\n",
      "C:\\Users\\jdave\\AppData\\Local\\Continuum\\anaconda3\\lib\\site-packages\\sklearn\\linear_model\\coordinate_descent.py:475: ConvergenceWarning: Objective did not converge. You might want to increase the number of iterations. Duality gap: 1.2904377826564541, tolerance: 0.7152838420025431\n",
      "  positive)\n",
      "C:\\Users\\jdave\\AppData\\Local\\Continuum\\anaconda3\\lib\\site-packages\\sklearn\\linear_model\\coordinate_descent.py:475: ConvergenceWarning: Objective did not converge. You might want to increase the number of iterations. Duality gap: 2.5623994096785054, tolerance: 0.6550391795970456\n",
      "  positive)\n",
      "C:\\Users\\jdave\\AppData\\Local\\Continuum\\anaconda3\\lib\\site-packages\\sklearn\\linear_model\\coordinate_descent.py:475: ConvergenceWarning: Objective did not converge. You might want to increase the number of iterations. Duality gap: 1.4541284915076176, tolerance: 0.7804645279308172\n",
      "  positive)\n",
      "C:\\Users\\jdave\\AppData\\Local\\Continuum\\anaconda3\\lib\\site-packages\\sklearn\\linear_model\\coordinate_descent.py:475: ConvergenceWarning: Objective did not converge. You might want to increase the number of iterations. Duality gap: 0.9208813362988622, tolerance: 0.9018043351443356\n",
      "  positive)\n",
      "C:\\Users\\jdave\\AppData\\Local\\Continuum\\anaconda3\\lib\\site-packages\\sklearn\\linear_model\\coordinate_descent.py:475: ConvergenceWarning: Objective did not converge. You might want to increase the number of iterations. Duality gap: 4.932071294086654, tolerance: 0.6509909706293966\n",
      "  positive)\n",
      "C:\\Users\\jdave\\AppData\\Local\\Continuum\\anaconda3\\lib\\site-packages\\sklearn\\linear_model\\coordinate_descent.py:475: ConvergenceWarning: Objective did not converge. You might want to increase the number of iterations. Duality gap: 0.9208813362988622, tolerance: 0.9018043351443356\n",
      "  positive)\n",
      "C:\\Users\\jdave\\AppData\\Local\\Continuum\\anaconda3\\lib\\site-packages\\sklearn\\linear_model\\coordinate_descent.py:475: ConvergenceWarning: Objective did not converge. You might want to increase the number of iterations. Duality gap: 3.0642129991533693, tolerance: 0.783066358105757\n",
      "  positive)\n",
      "C:\\Users\\jdave\\AppData\\Local\\Continuum\\anaconda3\\lib\\site-packages\\sklearn\\linear_model\\coordinate_descent.py:475: ConvergenceWarning: Objective did not converge. You might want to increase the number of iterations. Duality gap: 2.4554567884681546, tolerance: 0.6356765044058653\n",
      "  positive)\n",
      "C:\\Users\\jdave\\AppData\\Local\\Continuum\\anaconda3\\lib\\site-packages\\sklearn\\linear_model\\coordinate_descent.py:475: ConvergenceWarning: Objective did not converge. You might want to increase the number of iterations. Duality gap: 0.9208813362988622, tolerance: 0.9018043351443356\n",
      "  positive)\n",
      "C:\\Users\\jdave\\AppData\\Local\\Continuum\\anaconda3\\lib\\site-packages\\sklearn\\linear_model\\coordinate_descent.py:475: ConvergenceWarning: Objective did not converge. You might want to increase the number of iterations. Duality gap: 3.913362629363064, tolerance: 0.6971815708631877\n",
      "  positive)\n",
      "C:\\Users\\jdave\\AppData\\Local\\Continuum\\anaconda3\\lib\\site-packages\\sklearn\\linear_model\\coordinate_descent.py:475: ConvergenceWarning: Objective did not converge. You might want to increase the number of iterations. Duality gap: 3.8238638708185135, tolerance: 0.6839398384900274\n",
      "  positive)\n",
      "C:\\Users\\jdave\\AppData\\Local\\Continuum\\anaconda3\\lib\\site-packages\\sklearn\\linear_model\\coordinate_descent.py:475: ConvergenceWarning: Objective did not converge. You might want to increase the number of iterations. Duality gap: 0.9208813362988622, tolerance: 0.9018043351443356\n",
      "  positive)\n",
      "C:\\Users\\jdave\\AppData\\Local\\Continuum\\anaconda3\\lib\\site-packages\\sklearn\\linear_model\\coordinate_descent.py:475: ConvergenceWarning: Objective did not converge. You might want to increase the number of iterations. Duality gap: 1.1220699020564098, tolerance: 0.6584404085244736\n",
      "  positive)\n",
      "C:\\Users\\jdave\\AppData\\Local\\Continuum\\anaconda3\\lib\\site-packages\\sklearn\\linear_model\\coordinate_descent.py:475: ConvergenceWarning: Objective did not converge. You might want to increase the number of iterations. Duality gap: 0.9208813362988622, tolerance: 0.9018043351443356\n",
      "  positive)\n",
      "C:\\Users\\jdave\\AppData\\Local\\Continuum\\anaconda3\\lib\\site-packages\\sklearn\\linear_model\\coordinate_descent.py:475: ConvergenceWarning: Objective did not converge. You might want to increase the number of iterations. Duality gap: 1.0677676548111776, tolerance: 0.660155851311857\n",
      "  positive)\n",
      "C:\\Users\\jdave\\AppData\\Local\\Continuum\\anaconda3\\lib\\site-packages\\sklearn\\linear_model\\coordinate_descent.py:475: ConvergenceWarning: Objective did not converge. You might want to increase the number of iterations. Duality gap: 2.4414270460608805, tolerance: 0.686701005009165\n",
      "  positive)\n",
      "C:\\Users\\jdave\\AppData\\Local\\Continuum\\anaconda3\\lib\\site-packages\\sklearn\\linear_model\\coordinate_descent.py:475: ConvergenceWarning: Objective did not converge. You might want to increase the number of iterations. Duality gap: 0.9208813362988622, tolerance: 0.9018043351443356\n",
      "  positive)\n",
      "C:\\Users\\jdave\\AppData\\Local\\Continuum\\anaconda3\\lib\\site-packages\\sklearn\\linear_model\\coordinate_descent.py:475: ConvergenceWarning: Objective did not converge. You might want to increase the number of iterations. Duality gap: 1.7805351196886932, tolerance: 0.8201754279040862\n",
      "  positive)\n",
      "C:\\Users\\jdave\\AppData\\Local\\Continuum\\anaconda3\\lib\\site-packages\\sklearn\\linear_model\\coordinate_descent.py:475: ConvergenceWarning: Objective did not converge. You might want to increase the number of iterations. Duality gap: 0.9208813362988622, tolerance: 0.9018043351443356\n",
      "  positive)\n",
      "C:\\Users\\jdave\\AppData\\Local\\Continuum\\anaconda3\\lib\\site-packages\\sklearn\\linear_model\\coordinate_descent.py:475: ConvergenceWarning: Objective did not converge. You might want to increase the number of iterations. Duality gap: 0.9208813362988622, tolerance: 0.9018043351443356\n",
      "  positive)\n",
      "C:\\Users\\jdave\\AppData\\Local\\Continuum\\anaconda3\\lib\\site-packages\\sklearn\\linear_model\\coordinate_descent.py:475: ConvergenceWarning: Objective did not converge. You might want to increase the number of iterations. Duality gap: 0.9208813362988622, tolerance: 0.9018043351443356\n",
      "  positive)\n",
      "C:\\Users\\jdave\\AppData\\Local\\Continuum\\anaconda3\\lib\\site-packages\\sklearn\\linear_model\\coordinate_descent.py:475: ConvergenceWarning: Objective did not converge. You might want to increase the number of iterations. Duality gap: 0.9208813362988622, tolerance: 0.9018043351443356\n",
      "  positive)\n",
      "C:\\Users\\jdave\\AppData\\Local\\Continuum\\anaconda3\\lib\\site-packages\\sklearn\\linear_model\\coordinate_descent.py:475: ConvergenceWarning: Objective did not converge. You might want to increase the number of iterations. Duality gap: 1.7836867168580284, tolerance: 0.8039581555771307\n",
      "  positive)\n",
      "C:\\Users\\jdave\\AppData\\Local\\Continuum\\anaconda3\\lib\\site-packages\\sklearn\\linear_model\\coordinate_descent.py:475: ConvergenceWarning: Objective did not converge. You might want to increase the number of iterations. Duality gap: 0.9208813362988622, tolerance: 0.9018043351443356\n",
      "  positive)\n"
     ]
    },
    {
     "name": "stderr",
     "output_type": "stream",
     "text": [
      "C:\\Users\\jdave\\AppData\\Local\\Continuum\\anaconda3\\lib\\site-packages\\sklearn\\linear_model\\coordinate_descent.py:475: ConvergenceWarning: Objective did not converge. You might want to increase the number of iterations. Duality gap: 1.1987989481228851, tolerance: 0.5436510683103944\n",
      "  positive)\n",
      "C:\\Users\\jdave\\AppData\\Local\\Continuum\\anaconda3\\lib\\site-packages\\sklearn\\linear_model\\coordinate_descent.py:475: ConvergenceWarning: Objective did not converge. You might want to increase the number of iterations. Duality gap: 1.1090942095595437, tolerance: 0.77626773631304\n",
      "  positive)\n",
      "C:\\Users\\jdave\\AppData\\Local\\Continuum\\anaconda3\\lib\\site-packages\\sklearn\\linear_model\\coordinate_descent.py:475: ConvergenceWarning: Objective did not converge. You might want to increase the number of iterations. Duality gap: 0.9208813362988622, tolerance: 0.9018043351443356\n",
      "  positive)\n",
      "C:\\Users\\jdave\\AppData\\Local\\Continuum\\anaconda3\\lib\\site-packages\\sklearn\\linear_model\\coordinate_descent.py:475: ConvergenceWarning: Objective did not converge. You might want to increase the number of iterations. Duality gap: 2.499538141587891, tolerance: 0.641444282201756\n",
      "  positive)\n",
      "C:\\Users\\jdave\\AppData\\Local\\Continuum\\anaconda3\\lib\\site-packages\\sklearn\\linear_model\\coordinate_descent.py:475: ConvergenceWarning: Objective did not converge. You might want to increase the number of iterations. Duality gap: 1.4446197565835064, tolerance: 0.6275413182980775\n",
      "  positive)\n",
      "C:\\Users\\jdave\\AppData\\Local\\Continuum\\anaconda3\\lib\\site-packages\\sklearn\\linear_model\\coordinate_descent.py:475: ConvergenceWarning: Objective did not converge. You might want to increase the number of iterations. Duality gap: 0.7056795852711275, tolerance: 0.5170731889174611\n",
      "  positive)\n",
      "C:\\Users\\jdave\\AppData\\Local\\Continuum\\anaconda3\\lib\\site-packages\\sklearn\\linear_model\\coordinate_descent.py:475: ConvergenceWarning: Objective did not converge. You might want to increase the number of iterations. Duality gap: 0.9208813362988622, tolerance: 0.9018043351443356\n",
      "  positive)\n",
      "C:\\Users\\jdave\\AppData\\Local\\Continuum\\anaconda3\\lib\\site-packages\\sklearn\\linear_model\\coordinate_descent.py:475: ConvergenceWarning: Objective did not converge. You might want to increase the number of iterations. Duality gap: 0.9208813362988622, tolerance: 0.9018043351443356\n",
      "  positive)\n",
      "C:\\Users\\jdave\\AppData\\Local\\Continuum\\anaconda3\\lib\\site-packages\\sklearn\\linear_model\\coordinate_descent.py:475: ConvergenceWarning: Objective did not converge. You might want to increase the number of iterations. Duality gap: 3.3658034205498097, tolerance: 0.7439061072431759\n",
      "  positive)\n",
      "C:\\Users\\jdave\\AppData\\Local\\Continuum\\anaconda3\\lib\\site-packages\\sklearn\\linear_model\\coordinate_descent.py:475: ConvergenceWarning: Objective did not converge. You might want to increase the number of iterations. Duality gap: 3.193410445553127, tolerance: 0.7894159669541185\n",
      "  positive)\n",
      "C:\\Users\\jdave\\AppData\\Local\\Continuum\\anaconda3\\lib\\site-packages\\sklearn\\linear_model\\coordinate_descent.py:475: ConvergenceWarning: Objective did not converge. You might want to increase the number of iterations. Duality gap: 0.9208813362988622, tolerance: 0.9018043351443356\n",
      "  positive)\n",
      "C:\\Users\\jdave\\AppData\\Local\\Continuum\\anaconda3\\lib\\site-packages\\sklearn\\linear_model\\coordinate_descent.py:475: ConvergenceWarning: Objective did not converge. You might want to increase the number of iterations. Duality gap: 44.81675139068716, tolerance: 0.6242692210141636\n",
      "  positive)\n",
      "C:\\Users\\jdave\\AppData\\Local\\Continuum\\anaconda3\\lib\\site-packages\\sklearn\\linear_model\\coordinate_descent.py:475: ConvergenceWarning: Objective did not converge. You might want to increase the number of iterations. Duality gap: 0.9208813362988622, tolerance: 0.9018043351443356\n",
      "  positive)\n",
      "C:\\Users\\jdave\\AppData\\Local\\Continuum\\anaconda3\\lib\\site-packages\\sklearn\\linear_model\\coordinate_descent.py:475: ConvergenceWarning: Objective did not converge. You might want to increase the number of iterations. Duality gap: 2.176873399421538, tolerance: 0.60560663619497\n",
      "  positive)\n",
      "C:\\Users\\jdave\\AppData\\Local\\Continuum\\anaconda3\\lib\\site-packages\\sklearn\\linear_model\\coordinate_descent.py:475: ConvergenceWarning: Objective did not converge. You might want to increase the number of iterations. Duality gap: 0.9208813362988622, tolerance: 0.9018043351443356\n",
      "  positive)\n",
      "C:\\Users\\jdave\\AppData\\Local\\Continuum\\anaconda3\\lib\\site-packages\\sklearn\\model_selection\\_search.py:813: DeprecationWarning: The default of the `iid` parameter will change from True to False in version 0.22 and will be removed in 0.24. This will change numeric results when test-set sizes are unequal.\n",
      "  DeprecationWarning)\n"
     ]
    },
    {
     "data": {
      "text/plain": [
       "GridSearchCV(cv=5, error_score='raise-deprecating',\n",
       "             estimator=StackingCVRegressor(cv=5,\n",
       "                                           meta_regressor=RandomForestRegressor(bootstrap=True,\n",
       "                                                                                criterion='mse',\n",
       "                                                                                max_depth=None,\n",
       "                                                                                max_features='auto',\n",
       "                                                                                max_leaf_nodes=None,\n",
       "                                                                                min_impurity_decrease=0.0,\n",
       "                                                                                min_impurity_split=None,\n",
       "                                                                                min_samples_leaf=1,\n",
       "                                                                                min_samples_split=2,\n",
       "                                                                                min_weight_fraction_leaf=0.0,\n",
       "                                                                                n_estimators='warn',\n",
       "                                                                                n_jo...\n",
       "                                           shuffle=True,\n",
       "                                           store_train_meta_features=False,\n",
       "                                           use_features_in_secondary=True,\n",
       "                                           verbose=0),\n",
       "             iid='warn', n_jobs=None,\n",
       "             param_grid={'lasso__alpha': [0.2, 0.4, 0.6, 0.8, 1.0, 1.2, 1.4,\n",
       "                                          1.6, 1.8],\n",
       "                         'meta_regressor__n_estimators': [10, 100],\n",
       "                         'ridge__alpha': [0.05, 0.1, 0.15, 0.2, 0.25, 0.3, 0.35,\n",
       "                                          0.4, 0.45]},\n",
       "             pre_dispatch='2*n_jobs', refit=True, return_train_score=False,\n",
       "             scoring=None, verbose=0)"
      ]
     },
     "execution_count": 29,
     "metadata": {},
     "output_type": "execute_result"
    }
   ],
   "source": [
    "#Stacking Regressor\n",
    "from mlxtend.regressor import StackingCVRegressor\n",
    "\n",
    "ridge = Ridge()\n",
    "lasso = Lasso()\n",
    "rf = RandomForestRegressor()\n",
    "\n",
    "stack = StackingCVRegressor(regressors=(lasso, ridge),\n",
    "                            meta_regressor=rf,\n",
    "                            use_features_in_secondary=True)\n",
    "\n",
    "params = {'lasso__alpha': [0.1, 1.0, 10.0],\n",
    "          'ridge__alpha': [0.1, 1.0, 10.0]}\n",
    "\n",
    "grid = GridSearchCV(\n",
    "    estimator=stack, \n",
    "    param_grid={\n",
    "        'lasso__alpha': [x/5.0 for x in range(1, 10)],\n",
    "        'ridge__alpha': [x/20.0 for x in range(1, 10)],\n",
    "        'meta_regressor__n_estimators': [10, 100]\n",
    "    }, \n",
    "    cv=5,\n",
    "    refit=True\n",
    ")\n",
    "\n",
    "X_train, X_test, y_train, y_test = train_test_split(X, y, test_size=0.25)\n",
    "\n",
    "grid.fit(X_train,y_train)"
   ]
  },
  {
   "cell_type": "code",
   "execution_count": 30,
   "metadata": {},
   "outputs": [
    {
     "name": "stdout",
     "output_type": "stream",
     "text": [
      "R^2: 0.739776\n",
      "RMSE: 4.766225\n"
     ]
    }
   ],
   "source": [
    "y_pred = grid.predict(X_test)\n",
    "\n",
    "print(\"R^2: %f\" %grid.score(X_test, y_test))\n",
    "rmse = np.sqrt(mean_squared_error(y_test, y_pred))\n",
    "print(\"RMSE: %f\" % (rmse))"
   ]
  },
  {
   "cell_type": "code",
   "execution_count": 31,
   "metadata": {},
   "outputs": [],
   "source": [
    "#Save Stacking Model\n",
    "filename='stack_avg.sav'\n",
    "pickle.dump(grid, open(filename, 'wb'))"
   ]
  }
 ],
 "metadata": {
  "kernelspec": {
   "display_name": "Python 3",
   "language": "python",
   "name": "python3"
  },
  "language_info": {
   "codemirror_mode": {
    "name": "ipython",
    "version": 3
   },
   "file_extension": ".py",
   "mimetype": "text/x-python",
   "name": "python",
   "nbconvert_exporter": "python",
   "pygments_lexer": "ipython3",
   "version": "3.7.3"
  }
 },
 "nbformat": 4,
 "nbformat_minor": 2
}
