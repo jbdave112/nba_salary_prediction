{
 "cells": [
  {
   "cell_type": "code",
   "execution_count": 1,
   "metadata": {},
   "outputs": [],
   "source": [
    "#Import Necessary Packages\n",
    "import pickle\n",
    "import pandas as pd"
   ]
  },
  {
   "cell_type": "code",
   "execution_count": 2,
   "metadata": {},
   "outputs": [],
   "source": [
    "#Load lasso model\n",
    "filename='lasso_model.sav'\n",
    "lasso_model =pickle.load(open(filename, 'rb'))"
   ]
  },
  {
   "cell_type": "code",
   "execution_count": 3,
   "metadata": {},
   "outputs": [
    {
     "data": {
      "text/html": [
       "<div>\n",
       "<style scoped>\n",
       "    .dataframe tbody tr th:only-of-type {\n",
       "        vertical-align: middle;\n",
       "    }\n",
       "\n",
       "    .dataframe tbody tr th {\n",
       "        vertical-align: top;\n",
       "    }\n",
       "\n",
       "    .dataframe thead th {\n",
       "        text-align: right;\n",
       "    }\n",
       "</style>\n",
       "<table border=\"1\" class=\"dataframe\">\n",
       "  <thead>\n",
       "    <tr style=\"text-align: right;\">\n",
       "      <th></th>\n",
       "      <th>Player</th>\n",
       "      <th>0</th>\n",
       "    </tr>\n",
       "  </thead>\n",
       "  <tbody>\n",
       "    <tr>\n",
       "      <th>0</th>\n",
       "      <td>Kevin Durant\\duranke01</td>\n",
       "      <td>33.117124</td>\n",
       "    </tr>\n",
       "    <tr>\n",
       "      <th>33</th>\n",
       "      <td>Kemba Walker\\walkeke02</td>\n",
       "      <td>32.267815</td>\n",
       "    </tr>\n",
       "    <tr>\n",
       "      <th>7</th>\n",
       "      <td>Kyrie Irving\\irvinky01</td>\n",
       "      <td>29.922506</td>\n",
       "    </tr>\n",
       "    <tr>\n",
       "      <th>4</th>\n",
       "      <td>Kawhi Leonard\\leonaka01</td>\n",
       "      <td>27.282221</td>\n",
       "    </tr>\n",
       "    <tr>\n",
       "      <th>52</th>\n",
       "      <td>D'Angelo Russell\\russeda01</td>\n",
       "      <td>26.839450</td>\n",
       "    </tr>\n",
       "  </tbody>\n",
       "</table>\n",
       "</div>"
      ],
      "text/plain": [
       "                        Player          0\n",
       "0       Kevin Durant\\duranke01  33.117124\n",
       "33      Kemba Walker\\walkeke02  32.267815\n",
       "7       Kyrie Irving\\irvinky01  29.922506\n",
       "4      Kawhi Leonard\\leonaka01  27.282221\n",
       "52  D'Angelo Russell\\russeda01  26.839450"
      ]
     },
     "execution_count": 3,
     "metadata": {},
     "output_type": "execute_result"
    }
   ],
   "source": [
    "#Load 2019 Free Agents\n",
    "df_2019 = pd.read_csv('predict.csv')\n",
    "\n",
    "#Fill na free throw% and three point% with 0\n",
    "df_2019 = df_2019.fillna(0)\n",
    "X_new = df_2019[['PER', 'TS%', '3PAr', 'FTr', 'ORB%', 'DRB%', 'TRB%', 'AST%', 'STL%', 'BLK%', 'VORP', 'G', 'GS', 'MP', 'FG', 'FGA', 'FG%', '3P', '3PA', '3P%', '2P', '2PA', '2P%', 'FT', 'FTA', 'FT%', 'ORB', 'DRB', 'TRB', 'AST', 'STL', 'BLK', 'TOV', 'PTS', 'ORtg', 'DRtg']]\n",
    "\n",
    "#Create predictions for 2019 free agents and export into csv ussing lasso model\n",
    "y_pred_new = lasso_model.predict(X_new)\n",
    "pred_df = pd.DataFrame(data = y_pred_new.flatten())\n",
    "player_pred_df = pd.concat([df_2019['Player'], pred_df], axis =1)\n",
    "player_pred_df.to_csv('lasso_pred.csv')\n",
    "player_pred_df.sort_values(by=0, ascending=False).head()"
   ]
  },
  {
   "cell_type": "code",
   "execution_count": 4,
   "metadata": {},
   "outputs": [],
   "source": [
    "#Load ridge model\n",
    "filename='ridge_model.sav'\n",
    "ridge_model =pickle.load(open(filename, 'rb'))"
   ]
  },
  {
   "cell_type": "code",
   "execution_count": 5,
   "metadata": {},
   "outputs": [
    {
     "data": {
      "text/html": [
       "<div>\n",
       "<style scoped>\n",
       "    .dataframe tbody tr th:only-of-type {\n",
       "        vertical-align: middle;\n",
       "    }\n",
       "\n",
       "    .dataframe tbody tr th {\n",
       "        vertical-align: top;\n",
       "    }\n",
       "\n",
       "    .dataframe thead th {\n",
       "        text-align: right;\n",
       "    }\n",
       "</style>\n",
       "<table border=\"1\" class=\"dataframe\">\n",
       "  <thead>\n",
       "    <tr style=\"text-align: right;\">\n",
       "      <th></th>\n",
       "      <th>Player</th>\n",
       "      <th>0</th>\n",
       "    </tr>\n",
       "  </thead>\n",
       "  <tbody>\n",
       "    <tr>\n",
       "      <th>33</th>\n",
       "      <td>Kemba Walker\\walkeke02</td>\n",
       "      <td>37.185195</td>\n",
       "    </tr>\n",
       "    <tr>\n",
       "      <th>7</th>\n",
       "      <td>Kyrie Irving\\irvinky01</td>\n",
       "      <td>36.331041</td>\n",
       "    </tr>\n",
       "    <tr>\n",
       "      <th>27</th>\n",
       "      <td>Nikola Vucevic\\vucevni01</td>\n",
       "      <td>34.223803</td>\n",
       "    </tr>\n",
       "    <tr>\n",
       "      <th>0</th>\n",
       "      <td>Kevin Durant\\duranke01</td>\n",
       "      <td>34.157196</td>\n",
       "    </tr>\n",
       "    <tr>\n",
       "      <th>4</th>\n",
       "      <td>Kawhi Leonard\\leonaka01</td>\n",
       "      <td>33.538390</td>\n",
       "    </tr>\n",
       "  </tbody>\n",
       "</table>\n",
       "</div>"
      ],
      "text/plain": [
       "                      Player          0\n",
       "33    Kemba Walker\\walkeke02  37.185195\n",
       "7     Kyrie Irving\\irvinky01  36.331041\n",
       "27  Nikola Vucevic\\vucevni01  34.223803\n",
       "0     Kevin Durant\\duranke01  34.157196\n",
       "4    Kawhi Leonard\\leonaka01  33.538390"
      ]
     },
     "execution_count": 5,
     "metadata": {},
     "output_type": "execute_result"
    }
   ],
   "source": [
    "#Create predictions for 2019 free agents and export into csv ussing ridge model\n",
    "y_pred_new = ridge_model.predict(X_new)\n",
    "pred_df = pd.DataFrame(data = y_pred_new.flatten())\n",
    "player_pred_df = pd.concat([df_2019['Player'], pred_df], axis =1)\n",
    "player_pred_df.to_csv('ridge_pred.csv')\n",
    "player_pred_df.sort_values(by=0, ascending=False).head()"
   ]
  }
 ],
 "metadata": {
  "kernelspec": {
   "display_name": "Python 3",
   "language": "python",
   "name": "python3"
  },
  "language_info": {
   "codemirror_mode": {
    "name": "ipython",
    "version": 3
   },
   "file_extension": ".py",
   "mimetype": "text/x-python",
   "name": "python",
   "nbconvert_exporter": "python",
   "pygments_lexer": "ipython3",
   "version": "3.7.3"
  }
 },
 "nbformat": 4,
 "nbformat_minor": 2
}
